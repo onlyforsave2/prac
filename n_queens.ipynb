{
  "nbformat": 4,
  "nbformat_minor": 0,
  "metadata": {
    "colab": {
      "provenance": []
    },
    "kernelspec": {
      "name": "python3",
      "display_name": "Python 3"
    },
    "language_info": {
      "name": "python"
    }
  },
  "cells": [
    {
      "cell_type": "code",
      "execution_count": null,
      "metadata": {
        "colab": {
          "base_uri": "https://localhost:8080/"
        },
        "id": "3i7vXUUo9gUB",
        "outputId": "65dd3842-84c0-4832-e475-5d498f07ef4b"
      },
      "outputs": [
        {
          "output_type": "stream",
          "name": "stdout",
          "text": [
            "Enter i, j position of first queen : 2 3\n",
            "0 0 1 0 \n",
            "1 0 0 0 \n",
            "0 0 0 1 \n",
            "0 1 0 0 \n"
          ]
        },
        {
          "output_type": "execute_result",
          "data": {
            "text/plain": [
              "True"
            ]
          },
          "metadata": {},
          "execution_count": 7
        }
      ],
      "source": [
        "global N\n",
        "N = 4\n",
        "cols = set([i for i in range(N)])\n",
        "\n",
        "def printSolution(board):\n",
        "    for i in range(N):\n",
        "        for j in range(N):\n",
        "            print(board[i][j], end=\" \")\n",
        "        print()\n",
        "\n",
        "def isSafe(board, row, col):\n",
        "    for i in range(col):\n",
        "        if board[row][i] == 1:\n",
        "            return False\n",
        "    i, j = row - 1, col + 1\n",
        "    while i >= 0 and j < N:\n",
        "        if board[i][j] == 1:\n",
        "            return False\n",
        "        i -= 1\n",
        "        j += 1\n",
        "    i, j = row + 1, col + 1\n",
        "    while i < N and j < N:\n",
        "        if board[i][j] == 1:\n",
        "            return False\n",
        "        i += 1\n",
        "        j += 1\n",
        "    i, j = row - 1, col - 1\n",
        "    while i >= 0 and j >= 0:\n",
        "        if board[i][j] == 1:\n",
        "            return False\n",
        "        i -= 1\n",
        "        j -= 1\n",
        "    i, j = row + 1, col - 1\n",
        "    while i < N and j >= 0:\n",
        "        if board[i][j] == 1:\n",
        "            return False\n",
        "        i += 1\n",
        "        j -= 1\n",
        "    return True\n",
        "\n",
        "def solveNQUtil(board):\n",
        "    if not cols:\n",
        "        return True\n",
        "    col = list(cols)[0]\n",
        "    for i in range(N):\n",
        "        if isSafe(board, i, col):\n",
        "            board[i][col] = 1\n",
        "            cols.remove(col)\n",
        "            if solveNQUtil(board) == True:\n",
        "                return True\n",
        "            cols.add(col)\n",
        "            board[i][col] = 0\n",
        "    return False\n",
        "\n",
        "def solveNQ():\n",
        "    board = []\n",
        "    for i in range(N):\n",
        "        temp = []\n",
        "        for j in range(N):\n",
        "            temp.append(0)\n",
        "        board.append(temp)\n",
        "    i, j = input(\"Enter i, j position of first queen : \").split()\n",
        "    i, j = int(i), int(j)\n",
        "    board[i][j] = 1\n",
        "    cols.remove(j)\n",
        "    if solveNQUtil(board) == False:\n",
        "        print(\"Solution does not exist\")\n",
        "        return False\n",
        "    printSolution(board)\n",
        "    return True\n",
        "solveNQ()"
      ]
    }
  ]
}