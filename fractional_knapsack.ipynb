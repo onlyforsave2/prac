{
  "nbformat": 4,
  "nbformat_minor": 0,
  "metadata": {
    "colab": {
      "provenance": []
    },
    "kernelspec": {
      "name": "python3",
      "display_name": "Python 3"
    },
    "language_info": {
      "name": "python"
    }
  },
  "cells": [
    {
      "cell_type": "code",
      "execution_count": null,
      "metadata": {
        "colab": {
          "base_uri": "https://localhost:8080/"
        },
        "id": "pYOXf-ye7VSQ",
        "outputId": "07aa32dc-fbc3-47c6-db4a-a26563d78e8c"
      },
      "outputs": [
        {
          "output_type": "stream",
          "name": "stdout",
          "text": [
            "250.0\n"
          ]
        }
      ],
      "source": [
        "class Item:\n",
        "    def __init__(self, value, weight):\n",
        "        self.value = value\n",
        "        self.weight = weight\n",
        "\n",
        "def fractionalKnapsack(W, arr):\n",
        "    arr.sort(key=lambda x: (x.value/x.weight), reverse=True)\n",
        "    finalvalue = 0.0\n",
        "    for item in arr:\n",
        "        if item.weight <= W:\n",
        "            W -= item.weight\n",
        "            finalvalue += item.value\n",
        "        else:\n",
        "            finalvalue += item.value * W / item.weight\n",
        "            break\n",
        "    return finalvalue\n",
        "\n",
        "if __name__ == \"__main__\":\n",
        "    W = 50\n",
        "    arr = [Item(70, 10), Item(100, 20), Item(120, 30)]\n",
        "    max_val = fractionalKnapsack(W, arr)\n",
        "    print(max_val)"
      ]
    },
    {
      "cell_type": "code",
      "source": [
        "class Item:\n",
        "  def __init__(self, value, weight):\n",
        "    self.value = value\n",
        "    self.weight = weight\n",
        "\n",
        "def fractionalknapsack(w, arr):\n",
        "  arr.sort(key=lambda x: (x.value/x.weight), reverse=True)\n",
        "  finalvalue = 0\n",
        "  for item in arr:\n",
        "    if item.weight < w:\n",
        "      w -= item.weight\n",
        "      finalvalue += item.value\n",
        "    else :\n",
        "      finalvalue += item.value * w / item.weight\n",
        "      break\n",
        "  return finalvalue\n",
        "\n",
        "if __name__ == \"__main__\":\n",
        "  w = 50\n",
        "  arr = [Item(70,10), Item(100,20), Item(120,30)]\n",
        "  print(fractionalKnapsack(w,arr))"
      ],
      "metadata": {
        "colab": {
          "base_uri": "https://localhost:8080/"
        },
        "id": "XEnuqETB1NvF",
        "outputId": "5b30b58d-8253-49d6-9f1b-d119e83541a8"
      },
      "execution_count": null,
      "outputs": [
        {
          "output_type": "stream",
          "name": "stdout",
          "text": [
            "250.0\n"
          ]
        }
      ]
    },
    {
      "cell_type": "code",
      "source": [
        "class Item:\n",
        "  def __init__(self, value, weight):\n",
        "    self.value = value\n",
        "    self.weight = weight\n",
        "\n",
        "def fractionalKnapsack(w,arr):\n",
        "  arr.sort(key = lambda x : (x.value/x.weight), reverse = True)\n",
        "  finalvalue = 0\n",
        "  for item in arr:\n",
        "    if item.weight < w:\n",
        "      w -= item.weight\n",
        "      finalvalue += item.value\n",
        "    else:\n",
        "      finalvalue += item.value * w /item.weight\n",
        "      break\n",
        "  return finalvalue\n",
        "\n",
        "if __name__ == \"__main__\":\n",
        "  w = 50\n",
        "  arr = [Item(70,10), Item(100,20), Item(120,30)]\n",
        "  print(fractionalKnapsack(w,arr))"
      ],
      "metadata": {
        "colab": {
          "base_uri": "https://localhost:8080/"
        },
        "id": "T-59uta93uwa",
        "outputId": "cd195cc3-9fd5-4887-c785-901d85d8a0a6"
      },
      "execution_count": null,
      "outputs": [
        {
          "output_type": "stream",
          "name": "stdout",
          "text": [
            "250.0\n"
          ]
        }
      ]
    }
  ]
}