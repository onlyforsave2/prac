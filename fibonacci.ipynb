{
  "nbformat": 4,
  "nbformat_minor": 0,
  "metadata": {
    "colab": {
      "provenance": []
    },
    "kernelspec": {
      "name": "python3",
      "display_name": "Python 3"
    },
    "language_info": {
      "name": "python"
    }
  },
  "cells": [
    {
      "cell_type": "code",
      "execution_count": null,
      "metadata": {
        "colab": {
          "base_uri": "https://localhost:8080/"
        },
        "id": "7EujS-ceyBIl",
        "outputId": "1467a50a-ea96-417a-e78e-4fca0a9cd830"
      },
      "outputs": [
        {
          "output_type": "stream",
          "name": "stdout",
          "text": [
            "Enter the number of fibonacci numbers required : 8\n",
            "Iterative: 0 1 1 2 3 5 8 13\n",
            "Recursive: 0 1 1 2 3 5 8 13\n"
          ]
        }
      ],
      "source": [
        "def fibo_recursive(n):\n",
        "    if n == 1:\n",
        "        return 0\n",
        "    elif n == 2:\n",
        "        return 1\n",
        "    return fibo_recursive(n - 1) + fibo_recursive(n - 2)\n",
        "    \n",
        "def fibo_iterative(n):\n",
        "    a, b = 0, 1\n",
        "    if n == 1:\n",
        "        return a\n",
        "    elif n == 2:\n",
        "        return b\n",
        "    while n - 2 > 0:\n",
        "        c = a + b\n",
        "        a, b = b, c\n",
        "        n = n - 1\n",
        "    return c\n",
        "    \n",
        "num = int(input(\"Enter the number of fibonacci numbers required : \"))\n",
        "iterative, recursive = [], []\n",
        "for i in range(1, num+1):\n",
        " iterative.append(str(fibo_iterative(i)))\n",
        " recursive.append(str(fibo_recursive(i)))\n",
        "print('Iterative: ' + ' '.join(iterative))\n",
        "print('Recursive: ' + ' '.join(recursive))"
      ]
    }
  ]
}